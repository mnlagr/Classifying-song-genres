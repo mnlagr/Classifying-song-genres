{
 "cells": [
  {
   "cell_type": "code",
   "execution_count": 1,
   "metadata": {},
   "outputs": [],
   "source": [
    "import numpy as np\n",
    "import pandas as pd\n",
    "import matplotlib.pyplot as plt\n",
    "import seaborn as sns\n",
    "import sklearn\n",
    "%matplotlib inline\n",
    "import warnings\n",
    "warnings.filterwarnings('ignore')"
   ]
  },
  {
   "cell_type": "code",
   "execution_count": 2,
   "metadata": {},
   "outputs": [],
   "source": [
    "# Reading in track metadata with genre labels\n",
    "tracks = pd.read_csv('datasets/fma-rock-vs-hiphop.csv')"
   ]
  },
  {
   "cell_type": "code",
   "execution_count": 3,
   "metadata": {},
   "outputs": [
    {
     "data": {
      "text/html": [
       "<div>\n",
       "<style scoped>\n",
       "    .dataframe tbody tr th:only-of-type {\n",
       "        vertical-align: middle;\n",
       "    }\n",
       "\n",
       "    .dataframe tbody tr th {\n",
       "        vertical-align: top;\n",
       "    }\n",
       "\n",
       "    .dataframe thead th {\n",
       "        text-align: right;\n",
       "    }\n",
       "</style>\n",
       "<table border=\"1\" class=\"dataframe\">\n",
       "  <thead>\n",
       "    <tr style=\"text-align: right;\">\n",
       "      <th></th>\n",
       "      <th>track_id</th>\n",
       "      <th>bit_rate</th>\n",
       "      <th>comments</th>\n",
       "      <th>composer</th>\n",
       "      <th>date_created</th>\n",
       "      <th>date_recorded</th>\n",
       "      <th>duration</th>\n",
       "      <th>favorites</th>\n",
       "      <th>genre_top</th>\n",
       "      <th>genres</th>\n",
       "      <th>...</th>\n",
       "      <th>information</th>\n",
       "      <th>interest</th>\n",
       "      <th>language_code</th>\n",
       "      <th>license</th>\n",
       "      <th>listens</th>\n",
       "      <th>lyricist</th>\n",
       "      <th>number</th>\n",
       "      <th>publisher</th>\n",
       "      <th>tags</th>\n",
       "      <th>title</th>\n",
       "    </tr>\n",
       "  </thead>\n",
       "  <tbody>\n",
       "    <tr>\n",
       "      <th>0</th>\n",
       "      <td>135</td>\n",
       "      <td>256000</td>\n",
       "      <td>1</td>\n",
       "      <td>NaN</td>\n",
       "      <td>2008-11-26 01:43:26</td>\n",
       "      <td>2008-11-26 00:00:00</td>\n",
       "      <td>837</td>\n",
       "      <td>0</td>\n",
       "      <td>Rock</td>\n",
       "      <td>[45, 58]</td>\n",
       "      <td>...</td>\n",
       "      <td>NaN</td>\n",
       "      <td>2484</td>\n",
       "      <td>en</td>\n",
       "      <td>Attribution-NonCommercial-ShareAlike 3.0 Inter...</td>\n",
       "      <td>1832</td>\n",
       "      <td>NaN</td>\n",
       "      <td>0</td>\n",
       "      <td>NaN</td>\n",
       "      <td>[]</td>\n",
       "      <td>Father's Day</td>\n",
       "    </tr>\n",
       "    <tr>\n",
       "      <th>1</th>\n",
       "      <td>136</td>\n",
       "      <td>256000</td>\n",
       "      <td>1</td>\n",
       "      <td>NaN</td>\n",
       "      <td>2008-11-26 01:43:35</td>\n",
       "      <td>2008-11-26 00:00:00</td>\n",
       "      <td>509</td>\n",
       "      <td>0</td>\n",
       "      <td>Rock</td>\n",
       "      <td>[45, 58]</td>\n",
       "      <td>...</td>\n",
       "      <td>NaN</td>\n",
       "      <td>1948</td>\n",
       "      <td>en</td>\n",
       "      <td>Attribution-NonCommercial-ShareAlike 3.0 Inter...</td>\n",
       "      <td>1498</td>\n",
       "      <td>NaN</td>\n",
       "      <td>0</td>\n",
       "      <td>NaN</td>\n",
       "      <td>[]</td>\n",
       "      <td>Peel Back The Mountain Sky</td>\n",
       "    </tr>\n",
       "    <tr>\n",
       "      <th>2</th>\n",
       "      <td>151</td>\n",
       "      <td>192000</td>\n",
       "      <td>0</td>\n",
       "      <td>NaN</td>\n",
       "      <td>2008-11-26 01:44:55</td>\n",
       "      <td>NaN</td>\n",
       "      <td>192</td>\n",
       "      <td>0</td>\n",
       "      <td>Rock</td>\n",
       "      <td>[25]</td>\n",
       "      <td>...</td>\n",
       "      <td>NaN</td>\n",
       "      <td>701</td>\n",
       "      <td>en</td>\n",
       "      <td>Attribution-NonCommercial-ShareAlike 3.0 Inter...</td>\n",
       "      <td>148</td>\n",
       "      <td>NaN</td>\n",
       "      <td>4</td>\n",
       "      <td>NaN</td>\n",
       "      <td>[]</td>\n",
       "      <td>Untitled 04</td>\n",
       "    </tr>\n",
       "    <tr>\n",
       "      <th>3</th>\n",
       "      <td>152</td>\n",
       "      <td>192000</td>\n",
       "      <td>0</td>\n",
       "      <td>NaN</td>\n",
       "      <td>2008-11-26 01:44:58</td>\n",
       "      <td>NaN</td>\n",
       "      <td>193</td>\n",
       "      <td>0</td>\n",
       "      <td>Rock</td>\n",
       "      <td>[25]</td>\n",
       "      <td>...</td>\n",
       "      <td>NaN</td>\n",
       "      <td>637</td>\n",
       "      <td>en</td>\n",
       "      <td>Attribution-NonCommercial-ShareAlike 3.0 Inter...</td>\n",
       "      <td>98</td>\n",
       "      <td>NaN</td>\n",
       "      <td>11</td>\n",
       "      <td>NaN</td>\n",
       "      <td>[]</td>\n",
       "      <td>Untitled 11</td>\n",
       "    </tr>\n",
       "    <tr>\n",
       "      <th>4</th>\n",
       "      <td>153</td>\n",
       "      <td>256000</td>\n",
       "      <td>0</td>\n",
       "      <td>Arc and Sender</td>\n",
       "      <td>2008-11-26 01:45:00</td>\n",
       "      <td>2008-11-26 00:00:00</td>\n",
       "      <td>405</td>\n",
       "      <td>5</td>\n",
       "      <td>Rock</td>\n",
       "      <td>[26]</td>\n",
       "      <td>...</td>\n",
       "      <td>NaN</td>\n",
       "      <td>354</td>\n",
       "      <td>en</td>\n",
       "      <td>Attribution-NonCommercial-NoDerivatives (aka M...</td>\n",
       "      <td>424</td>\n",
       "      <td>NaN</td>\n",
       "      <td>2</td>\n",
       "      <td>NaN</td>\n",
       "      <td>[]</td>\n",
       "      <td>Hundred-Year Flood</td>\n",
       "    </tr>\n",
       "  </tbody>\n",
       "</table>\n",
       "<p>5 rows × 21 columns</p>\n",
       "</div>"
      ],
      "text/plain": [
       "   track_id  bit_rate  comments        composer         date_created  \\\n",
       "0       135    256000         1             NaN  2008-11-26 01:43:26   \n",
       "1       136    256000         1             NaN  2008-11-26 01:43:35   \n",
       "2       151    192000         0             NaN  2008-11-26 01:44:55   \n",
       "3       152    192000         0             NaN  2008-11-26 01:44:58   \n",
       "4       153    256000         0  Arc and Sender  2008-11-26 01:45:00   \n",
       "\n",
       "         date_recorded  duration  favorites genre_top    genres  \\\n",
       "0  2008-11-26 00:00:00       837          0      Rock  [45, 58]   \n",
       "1  2008-11-26 00:00:00       509          0      Rock  [45, 58]   \n",
       "2                  NaN       192          0      Rock      [25]   \n",
       "3                  NaN       193          0      Rock      [25]   \n",
       "4  2008-11-26 00:00:00       405          5      Rock      [26]   \n",
       "\n",
       "              ...             information interest  language_code  \\\n",
       "0             ...                     NaN     2484             en   \n",
       "1             ...                     NaN     1948             en   \n",
       "2             ...                     NaN      701             en   \n",
       "3             ...                     NaN      637             en   \n",
       "4             ...                     NaN      354             en   \n",
       "\n",
       "                                             license listens  lyricist number  \\\n",
       "0  Attribution-NonCommercial-ShareAlike 3.0 Inter...    1832       NaN      0   \n",
       "1  Attribution-NonCommercial-ShareAlike 3.0 Inter...    1498       NaN      0   \n",
       "2  Attribution-NonCommercial-ShareAlike 3.0 Inter...     148       NaN      4   \n",
       "3  Attribution-NonCommercial-ShareAlike 3.0 Inter...      98       NaN     11   \n",
       "4  Attribution-NonCommercial-NoDerivatives (aka M...     424       NaN      2   \n",
       "\n",
       "   publisher tags                       title  \n",
       "0        NaN   []                Father's Day  \n",
       "1        NaN   []  Peel Back The Mountain Sky  \n",
       "2        NaN   []                 Untitled 04  \n",
       "3        NaN   []                 Untitled 11  \n",
       "4        NaN   []          Hundred-Year Flood  \n",
       "\n",
       "[5 rows x 21 columns]"
      ]
     },
     "execution_count": 3,
     "metadata": {},
     "output_type": "execute_result"
    }
   ],
   "source": [
    "tracks.head()"
   ]
  },
  {
   "cell_type": "code",
   "execution_count": 4,
   "metadata": {},
   "outputs": [],
   "source": [
    "# Reading in track metrics with the features\n",
    "echonest_metrics = pd.read_json('datasets/echonest-metrics.json',precise_float =True)"
   ]
  },
  {
   "cell_type": "code",
   "execution_count": 5,
   "metadata": {},
   "outputs": [
    {
     "data": {
      "text/html": [
       "<div>\n",
       "<style scoped>\n",
       "    .dataframe tbody tr th:only-of-type {\n",
       "        vertical-align: middle;\n",
       "    }\n",
       "\n",
       "    .dataframe tbody tr th {\n",
       "        vertical-align: top;\n",
       "    }\n",
       "\n",
       "    .dataframe thead th {\n",
       "        text-align: right;\n",
       "    }\n",
       "</style>\n",
       "<table border=\"1\" class=\"dataframe\">\n",
       "  <thead>\n",
       "    <tr style=\"text-align: right;\">\n",
       "      <th></th>\n",
       "      <th>track_id</th>\n",
       "      <th>acousticness</th>\n",
       "      <th>danceability</th>\n",
       "      <th>energy</th>\n",
       "      <th>instrumentalness</th>\n",
       "      <th>liveness</th>\n",
       "      <th>speechiness</th>\n",
       "      <th>tempo</th>\n",
       "      <th>valence</th>\n",
       "    </tr>\n",
       "  </thead>\n",
       "  <tbody>\n",
       "    <tr>\n",
       "      <th>0</th>\n",
       "      <td>2</td>\n",
       "      <td>0.416675</td>\n",
       "      <td>0.675894</td>\n",
       "      <td>0.634476</td>\n",
       "      <td>0.010628</td>\n",
       "      <td>0.177647</td>\n",
       "      <td>0.159310</td>\n",
       "      <td>165.922</td>\n",
       "      <td>0.576661</td>\n",
       "    </tr>\n",
       "    <tr>\n",
       "      <th>1</th>\n",
       "      <td>3</td>\n",
       "      <td>0.374408</td>\n",
       "      <td>0.528643</td>\n",
       "      <td>0.817461</td>\n",
       "      <td>0.001851</td>\n",
       "      <td>0.105880</td>\n",
       "      <td>0.461818</td>\n",
       "      <td>126.957</td>\n",
       "      <td>0.269240</td>\n",
       "    </tr>\n",
       "    <tr>\n",
       "      <th>10</th>\n",
       "      <td>145</td>\n",
       "      <td>0.235506</td>\n",
       "      <td>0.438672</td>\n",
       "      <td>0.487752</td>\n",
       "      <td>0.716122</td>\n",
       "      <td>0.070359</td>\n",
       "      <td>0.047298</td>\n",
       "      <td>120.790</td>\n",
       "      <td>0.650452</td>\n",
       "    </tr>\n",
       "    <tr>\n",
       "      <th>100</th>\n",
       "      <td>341</td>\n",
       "      <td>0.977282</td>\n",
       "      <td>0.468808</td>\n",
       "      <td>0.134975</td>\n",
       "      <td>0.687700</td>\n",
       "      <td>0.105381</td>\n",
       "      <td>0.073124</td>\n",
       "      <td>119.646</td>\n",
       "      <td>0.430707</td>\n",
       "    </tr>\n",
       "    <tr>\n",
       "      <th>1000</th>\n",
       "      <td>3457</td>\n",
       "      <td>0.081256</td>\n",
       "      <td>0.897197</td>\n",
       "      <td>0.367886</td>\n",
       "      <td>0.104474</td>\n",
       "      <td>0.085845</td>\n",
       "      <td>0.041271</td>\n",
       "      <td>100.744</td>\n",
       "      <td>0.749293</td>\n",
       "    </tr>\n",
       "  </tbody>\n",
       "</table>\n",
       "</div>"
      ],
      "text/plain": [
       "      track_id  acousticness  danceability    energy  instrumentalness  \\\n",
       "0            2      0.416675      0.675894  0.634476          0.010628   \n",
       "1            3      0.374408      0.528643  0.817461          0.001851   \n",
       "10         145      0.235506      0.438672  0.487752          0.716122   \n",
       "100        341      0.977282      0.468808  0.134975          0.687700   \n",
       "1000      3457      0.081256      0.897197  0.367886          0.104474   \n",
       "\n",
       "      liveness  speechiness    tempo   valence  \n",
       "0     0.177647     0.159310  165.922  0.576661  \n",
       "1     0.105880     0.461818  126.957  0.269240  \n",
       "10    0.070359     0.047298  120.790  0.650452  \n",
       "100   0.105381     0.073124  119.646  0.430707  \n",
       "1000  0.085845     0.041271  100.744  0.749293  "
      ]
     },
     "execution_count": 5,
     "metadata": {},
     "output_type": "execute_result"
    }
   ],
   "source": [
    "echonest_metrics.head()"
   ]
  },
  {
   "cell_type": "code",
   "execution_count": 6,
   "metadata": {},
   "outputs": [],
   "source": [
    "# Merging the relevant columns of tracks and echonest_metrics\n",
    "echo_tracks = echonest_metrics.merge(tracks[['track_id','genre_top']])"
   ]
  },
  {
   "cell_type": "code",
   "execution_count": 7,
   "metadata": {},
   "outputs": [
    {
     "name": "stdout",
     "output_type": "stream",
     "text": [
      "<class 'pandas.core.frame.DataFrame'>\n",
      "Int64Index: 4802 entries, 0 to 4801\n",
      "Data columns (total 10 columns):\n",
      "track_id            4802 non-null int64\n",
      "acousticness        4802 non-null float64\n",
      "danceability        4802 non-null float64\n",
      "energy              4802 non-null float64\n",
      "instrumentalness    4802 non-null float64\n",
      "liveness            4802 non-null float64\n",
      "speechiness         4802 non-null float64\n",
      "tempo               4802 non-null float64\n",
      "valence             4802 non-null float64\n",
      "genre_top           4802 non-null object\n",
      "dtypes: float64(8), int64(1), object(1)\n",
      "memory usage: 412.7+ KB\n"
     ]
    }
   ],
   "source": [
    "# Inspecting the resultant dataframe\n",
    "echo_tracks.info()\n"
   ]
  },
  {
   "cell_type": "code",
   "execution_count": 8,
   "metadata": {},
   "outputs": [
    {
     "data": {
      "text/html": [
       "<div>\n",
       "<style scoped>\n",
       "    .dataframe tbody tr th:only-of-type {\n",
       "        vertical-align: middle;\n",
       "    }\n",
       "\n",
       "    .dataframe tbody tr th {\n",
       "        vertical-align: top;\n",
       "    }\n",
       "\n",
       "    .dataframe thead th {\n",
       "        text-align: right;\n",
       "    }\n",
       "</style>\n",
       "<table border=\"1\" class=\"dataframe\">\n",
       "  <thead>\n",
       "    <tr style=\"text-align: right;\">\n",
       "      <th></th>\n",
       "      <th>track_id</th>\n",
       "      <th>acousticness</th>\n",
       "      <th>danceability</th>\n",
       "      <th>energy</th>\n",
       "      <th>instrumentalness</th>\n",
       "      <th>liveness</th>\n",
       "      <th>speechiness</th>\n",
       "      <th>tempo</th>\n",
       "      <th>valence</th>\n",
       "      <th>genre_top</th>\n",
       "    </tr>\n",
       "  </thead>\n",
       "  <tbody>\n",
       "    <tr>\n",
       "      <th>0</th>\n",
       "      <td>2</td>\n",
       "      <td>0.416675</td>\n",
       "      <td>0.675894</td>\n",
       "      <td>0.634476</td>\n",
       "      <td>0.010628</td>\n",
       "      <td>0.177647</td>\n",
       "      <td>0.159310</td>\n",
       "      <td>165.922</td>\n",
       "      <td>0.576661</td>\n",
       "      <td>Hip-Hop</td>\n",
       "    </tr>\n",
       "    <tr>\n",
       "      <th>1</th>\n",
       "      <td>3</td>\n",
       "      <td>0.374408</td>\n",
       "      <td>0.528643</td>\n",
       "      <td>0.817461</td>\n",
       "      <td>0.001851</td>\n",
       "      <td>0.105880</td>\n",
       "      <td>0.461818</td>\n",
       "      <td>126.957</td>\n",
       "      <td>0.269240</td>\n",
       "      <td>Hip-Hop</td>\n",
       "    </tr>\n",
       "    <tr>\n",
       "      <th>2</th>\n",
       "      <td>341</td>\n",
       "      <td>0.977282</td>\n",
       "      <td>0.468808</td>\n",
       "      <td>0.134975</td>\n",
       "      <td>0.687700</td>\n",
       "      <td>0.105381</td>\n",
       "      <td>0.073124</td>\n",
       "      <td>119.646</td>\n",
       "      <td>0.430707</td>\n",
       "      <td>Rock</td>\n",
       "    </tr>\n",
       "    <tr>\n",
       "      <th>3</th>\n",
       "      <td>46204</td>\n",
       "      <td>0.953349</td>\n",
       "      <td>0.498525</td>\n",
       "      <td>0.552503</td>\n",
       "      <td>0.924391</td>\n",
       "      <td>0.684914</td>\n",
       "      <td>0.028885</td>\n",
       "      <td>78.958</td>\n",
       "      <td>0.430448</td>\n",
       "      <td>Rock</td>\n",
       "    </tr>\n",
       "    <tr>\n",
       "      <th>4</th>\n",
       "      <td>46205</td>\n",
       "      <td>0.613229</td>\n",
       "      <td>0.500320</td>\n",
       "      <td>0.487992</td>\n",
       "      <td>0.936811</td>\n",
       "      <td>0.637750</td>\n",
       "      <td>0.030327</td>\n",
       "      <td>112.667</td>\n",
       "      <td>0.824749</td>\n",
       "      <td>Rock</td>\n",
       "    </tr>\n",
       "  </tbody>\n",
       "</table>\n",
       "</div>"
      ],
      "text/plain": [
       "   track_id  acousticness  danceability    energy  instrumentalness  liveness  \\\n",
       "0         2      0.416675      0.675894  0.634476          0.010628  0.177647   \n",
       "1         3      0.374408      0.528643  0.817461          0.001851  0.105880   \n",
       "2       341      0.977282      0.468808  0.134975          0.687700  0.105381   \n",
       "3     46204      0.953349      0.498525  0.552503          0.924391  0.684914   \n",
       "4     46205      0.613229      0.500320  0.487992          0.936811  0.637750   \n",
       "\n",
       "   speechiness    tempo   valence genre_top  \n",
       "0     0.159310  165.922  0.576661   Hip-Hop  \n",
       "1     0.461818  126.957  0.269240   Hip-Hop  \n",
       "2     0.073124  119.646  0.430707      Rock  \n",
       "3     0.028885   78.958  0.430448      Rock  \n",
       "4     0.030327  112.667  0.824749      Rock  "
      ]
     },
     "execution_count": 8,
     "metadata": {},
     "output_type": "execute_result"
    }
   ],
   "source": [
    "echo_tracks.head(5)"
   ]
  },
  {
   "cell_type": "code",
   "execution_count": 9,
   "metadata": {},
   "outputs": [
    {
     "data": {
      "text/html": [
       "<div>\n",
       "<style scoped>\n",
       "    .dataframe tbody tr th:only-of-type {\n",
       "        vertical-align: middle;\n",
       "    }\n",
       "\n",
       "    .dataframe tbody tr th {\n",
       "        vertical-align: top;\n",
       "    }\n",
       "\n",
       "    .dataframe thead th {\n",
       "        text-align: right;\n",
       "    }\n",
       "</style>\n",
       "<table border=\"1\" class=\"dataframe\">\n",
       "  <thead>\n",
       "    <tr style=\"text-align: right;\">\n",
       "      <th></th>\n",
       "      <th>track_id</th>\n",
       "      <th>acousticness</th>\n",
       "      <th>danceability</th>\n",
       "      <th>energy</th>\n",
       "      <th>instrumentalness</th>\n",
       "      <th>liveness</th>\n",
       "      <th>speechiness</th>\n",
       "      <th>tempo</th>\n",
       "      <th>valence</th>\n",
       "      <th>genre_top</th>\n",
       "    </tr>\n",
       "  </thead>\n",
       "  <tbody>\n",
       "    <tr>\n",
       "      <th>4797</th>\n",
       "      <td>46145</td>\n",
       "      <td>0.309978</td>\n",
       "      <td>0.509197</td>\n",
       "      <td>0.694164</td>\n",
       "      <td>0.901890</td>\n",
       "      <td>0.111435</td>\n",
       "      <td>0.033031</td>\n",
       "      <td>157.834</td>\n",
       "      <td>0.806165</td>\n",
       "      <td>Rock</td>\n",
       "    </tr>\n",
       "    <tr>\n",
       "      <th>4798</th>\n",
       "      <td>46146</td>\n",
       "      <td>0.807148</td>\n",
       "      <td>0.662437</td>\n",
       "      <td>0.695801</td>\n",
       "      <td>0.870190</td>\n",
       "      <td>0.290546</td>\n",
       "      <td>0.041281</td>\n",
       "      <td>119.047</td>\n",
       "      <td>0.620546</td>\n",
       "      <td>Rock</td>\n",
       "    </tr>\n",
       "    <tr>\n",
       "      <th>4799</th>\n",
       "      <td>46147</td>\n",
       "      <td>0.046950</td>\n",
       "      <td>0.660372</td>\n",
       "      <td>0.618403</td>\n",
       "      <td>0.893065</td>\n",
       "      <td>0.082421</td>\n",
       "      <td>0.030746</td>\n",
       "      <td>137.023</td>\n",
       "      <td>0.497032</td>\n",
       "      <td>Rock</td>\n",
       "    </tr>\n",
       "    <tr>\n",
       "      <th>4800</th>\n",
       "      <td>46148</td>\n",
       "      <td>0.188371</td>\n",
       "      <td>0.501633</td>\n",
       "      <td>0.900665</td>\n",
       "      <td>0.875925</td>\n",
       "      <td>0.098730</td>\n",
       "      <td>0.041440</td>\n",
       "      <td>125.060</td>\n",
       "      <td>0.834851</td>\n",
       "      <td>Rock</td>\n",
       "    </tr>\n",
       "    <tr>\n",
       "      <th>4801</th>\n",
       "      <td>46149</td>\n",
       "      <td>0.148685</td>\n",
       "      <td>0.622571</td>\n",
       "      <td>0.496510</td>\n",
       "      <td>0.822425</td>\n",
       "      <td>0.087282</td>\n",
       "      <td>0.038762</td>\n",
       "      <td>120.028</td>\n",
       "      <td>0.258213</td>\n",
       "      <td>Rock</td>\n",
       "    </tr>\n",
       "  </tbody>\n",
       "</table>\n",
       "</div>"
      ],
      "text/plain": [
       "      track_id  acousticness  danceability    energy  instrumentalness  \\\n",
       "4797     46145      0.309978      0.509197  0.694164          0.901890   \n",
       "4798     46146      0.807148      0.662437  0.695801          0.870190   \n",
       "4799     46147      0.046950      0.660372  0.618403          0.893065   \n",
       "4800     46148      0.188371      0.501633  0.900665          0.875925   \n",
       "4801     46149      0.148685      0.622571  0.496510          0.822425   \n",
       "\n",
       "      liveness  speechiness    tempo   valence genre_top  \n",
       "4797  0.111435     0.033031  157.834  0.806165      Rock  \n",
       "4798  0.290546     0.041281  119.047  0.620546      Rock  \n",
       "4799  0.082421     0.030746  137.023  0.497032      Rock  \n",
       "4800  0.098730     0.041440  125.060  0.834851      Rock  \n",
       "4801  0.087282     0.038762  120.028  0.258213      Rock  "
      ]
     },
     "execution_count": 9,
     "metadata": {},
     "output_type": "execute_result"
    }
   ],
   "source": [
    "echo_tracks.tail()"
   ]
  },
  {
   "cell_type": "code",
   "execution_count": 10,
   "metadata": {},
   "outputs": [
    {
     "data": {
      "text/html": [
       "<div>\n",
       "<style scoped>\n",
       "    .dataframe tbody tr th:only-of-type {\n",
       "        vertical-align: middle;\n",
       "    }\n",
       "\n",
       "    .dataframe tbody tr th {\n",
       "        vertical-align: top;\n",
       "    }\n",
       "\n",
       "    .dataframe thead th {\n",
       "        text-align: right;\n",
       "    }\n",
       "</style>\n",
       "<table border=\"1\" class=\"dataframe\">\n",
       "  <thead>\n",
       "    <tr style=\"text-align: right;\">\n",
       "      <th></th>\n",
       "      <th>track_id</th>\n",
       "      <th>acousticness</th>\n",
       "      <th>danceability</th>\n",
       "      <th>energy</th>\n",
       "      <th>instrumentalness</th>\n",
       "      <th>liveness</th>\n",
       "      <th>speechiness</th>\n",
       "      <th>tempo</th>\n",
       "      <th>valence</th>\n",
       "    </tr>\n",
       "  </thead>\n",
       "  <tbody>\n",
       "    <tr>\n",
       "      <th>count</th>\n",
       "      <td>4802.000000</td>\n",
       "      <td>4.802000e+03</td>\n",
       "      <td>4802.000000</td>\n",
       "      <td>4802.000000</td>\n",
       "      <td>4802.000000</td>\n",
       "      <td>4802.000000</td>\n",
       "      <td>4802.000000</td>\n",
       "      <td>4802.000000</td>\n",
       "      <td>4802.000000</td>\n",
       "    </tr>\n",
       "    <tr>\n",
       "      <th>mean</th>\n",
       "      <td>30164.871720</td>\n",
       "      <td>4.870600e-01</td>\n",
       "      <td>0.436556</td>\n",
       "      <td>0.625126</td>\n",
       "      <td>0.604096</td>\n",
       "      <td>0.187997</td>\n",
       "      <td>0.104877</td>\n",
       "      <td>126.687944</td>\n",
       "      <td>0.453413</td>\n",
       "    </tr>\n",
       "    <tr>\n",
       "      <th>std</th>\n",
       "      <td>28592.013796</td>\n",
       "      <td>3.681396e-01</td>\n",
       "      <td>0.183502</td>\n",
       "      <td>0.244051</td>\n",
       "      <td>0.376487</td>\n",
       "      <td>0.150562</td>\n",
       "      <td>0.145934</td>\n",
       "      <td>34.002473</td>\n",
       "      <td>0.266632</td>\n",
       "    </tr>\n",
       "    <tr>\n",
       "      <th>min</th>\n",
       "      <td>2.000000</td>\n",
       "      <td>9.491000e-07</td>\n",
       "      <td>0.051307</td>\n",
       "      <td>0.000279</td>\n",
       "      <td>0.000000</td>\n",
       "      <td>0.025297</td>\n",
       "      <td>0.023234</td>\n",
       "      <td>29.093000</td>\n",
       "      <td>0.014392</td>\n",
       "    </tr>\n",
       "    <tr>\n",
       "      <th>25%</th>\n",
       "      <td>7494.250000</td>\n",
       "      <td>8.351236e-02</td>\n",
       "      <td>0.296047</td>\n",
       "      <td>0.450757</td>\n",
       "      <td>0.164972</td>\n",
       "      <td>0.104052</td>\n",
       "      <td>0.036897</td>\n",
       "      <td>98.000750</td>\n",
       "      <td>0.224617</td>\n",
       "    </tr>\n",
       "    <tr>\n",
       "      <th>50%</th>\n",
       "      <td>20723.500000</td>\n",
       "      <td>5.156888e-01</td>\n",
       "      <td>0.419447</td>\n",
       "      <td>0.648374</td>\n",
       "      <td>0.808752</td>\n",
       "      <td>0.123080</td>\n",
       "      <td>0.049594</td>\n",
       "      <td>124.625500</td>\n",
       "      <td>0.446240</td>\n",
       "    </tr>\n",
       "    <tr>\n",
       "      <th>75%</th>\n",
       "      <td>44240.750000</td>\n",
       "      <td>8.555765e-01</td>\n",
       "      <td>0.565339</td>\n",
       "      <td>0.837016</td>\n",
       "      <td>0.915472</td>\n",
       "      <td>0.215151</td>\n",
       "      <td>0.088290</td>\n",
       "      <td>151.450000</td>\n",
       "      <td>0.666914</td>\n",
       "    </tr>\n",
       "    <tr>\n",
       "      <th>max</th>\n",
       "      <td>124722.000000</td>\n",
       "      <td>9.957965e-01</td>\n",
       "      <td>0.961871</td>\n",
       "      <td>0.999768</td>\n",
       "      <td>0.993134</td>\n",
       "      <td>0.971392</td>\n",
       "      <td>0.966177</td>\n",
       "      <td>250.059000</td>\n",
       "      <td>0.983649</td>\n",
       "    </tr>\n",
       "  </tbody>\n",
       "</table>\n",
       "</div>"
      ],
      "text/plain": [
       "            track_id  acousticness  danceability       energy  \\\n",
       "count    4802.000000  4.802000e+03   4802.000000  4802.000000   \n",
       "mean    30164.871720  4.870600e-01      0.436556     0.625126   \n",
       "std     28592.013796  3.681396e-01      0.183502     0.244051   \n",
       "min         2.000000  9.491000e-07      0.051307     0.000279   \n",
       "25%      7494.250000  8.351236e-02      0.296047     0.450757   \n",
       "50%     20723.500000  5.156888e-01      0.419447     0.648374   \n",
       "75%     44240.750000  8.555765e-01      0.565339     0.837016   \n",
       "max    124722.000000  9.957965e-01      0.961871     0.999768   \n",
       "\n",
       "       instrumentalness     liveness  speechiness        tempo      valence  \n",
       "count       4802.000000  4802.000000  4802.000000  4802.000000  4802.000000  \n",
       "mean           0.604096     0.187997     0.104877   126.687944     0.453413  \n",
       "std            0.376487     0.150562     0.145934    34.002473     0.266632  \n",
       "min            0.000000     0.025297     0.023234    29.093000     0.014392  \n",
       "25%            0.164972     0.104052     0.036897    98.000750     0.224617  \n",
       "50%            0.808752     0.123080     0.049594   124.625500     0.446240  \n",
       "75%            0.915472     0.215151     0.088290   151.450000     0.666914  \n",
       "max            0.993134     0.971392     0.966177   250.059000     0.983649  "
      ]
     },
     "execution_count": 10,
     "metadata": {},
     "output_type": "execute_result"
    }
   ],
   "source": [
    "echo_tracks.describe()"
   ]
  },
  {
   "cell_type": "code",
   "execution_count": 11,
   "metadata": {},
   "outputs": [
    {
     "data": {
      "text/plain": [
       "Index(['track_id', 'acousticness', 'danceability', 'energy',\n",
       "       'instrumentalness', 'liveness', 'speechiness', 'tempo', 'valence',\n",
       "       'genre_top'],\n",
       "      dtype='object')"
      ]
     },
     "execution_count": 11,
     "metadata": {},
     "output_type": "execute_result"
    }
   ],
   "source": [
    "echo_tracks.columns"
   ]
  },
  {
   "cell_type": "code",
   "execution_count": 12,
   "metadata": {},
   "outputs": [
    {
     "data": {
      "text/plain": [
       "track_id            0\n",
       "acousticness        0\n",
       "danceability        0\n",
       "energy              0\n",
       "instrumentalness    0\n",
       "liveness            0\n",
       "speechiness         0\n",
       "tempo               0\n",
       "valence             0\n",
       "genre_top           0\n",
       "dtype: int64"
      ]
     },
     "execution_count": 12,
     "metadata": {},
     "output_type": "execute_result"
    }
   ],
   "source": [
    "echo_tracks.isnull().sum()"
   ]
  },
  {
   "cell_type": "code",
   "execution_count": 13,
   "metadata": {},
   "outputs": [
    {
     "data": {
      "text/plain": [
       "Rock       3892\n",
       "Hip-Hop     910\n",
       "Name: genre_top, dtype: int64"
      ]
     },
     "metadata": {},
     "output_type": "display_data"
    }
   ],
   "source": [
    "display(echo_tracks[\"genre_top\"].value_counts())"
   ]
  },
  {
   "cell_type": "code",
   "execution_count": 14,
   "metadata": {},
   "outputs": [
    {
     "data": {
      "text/html": [
       "<style  type=\"text/css\" >\n",
       "    #T_96bc6d7a_5886_11e9_af77_502b73dcd793row0_col0 {\n",
       "            background-color:  #023858;\n",
       "        }    #T_96bc6d7a_5886_11e9_af77_502b73dcd793row0_col1 {\n",
       "            background-color:  #fff7fb;\n",
       "        }    #T_96bc6d7a_5886_11e9_af77_502b73dcd793row0_col2 {\n",
       "            background-color:  #d2d2e7;\n",
       "        }    #T_96bc6d7a_5886_11e9_af77_502b73dcd793row0_col3 {\n",
       "            background-color:  #b5c4df;\n",
       "        }    #T_96bc6d7a_5886_11e9_af77_502b73dcd793row0_col4 {\n",
       "            background-color:  #f5eef6;\n",
       "        }    #T_96bc6d7a_5886_11e9_af77_502b73dcd793row0_col5 {\n",
       "            background-color:  #e9e5f1;\n",
       "        }    #T_96bc6d7a_5886_11e9_af77_502b73dcd793row0_col6 {\n",
       "            background-color:  #d1d2e6;\n",
       "        }    #T_96bc6d7a_5886_11e9_af77_502b73dcd793row0_col7 {\n",
       "            background-color:  #e1dfed;\n",
       "        }    #T_96bc6d7a_5886_11e9_af77_502b73dcd793row0_col8 {\n",
       "            background-color:  #dedcec;\n",
       "        }    #T_96bc6d7a_5886_11e9_af77_502b73dcd793row1_col0 {\n",
       "            background-color:  #fff7fb;\n",
       "        }    #T_96bc6d7a_5886_11e9_af77_502b73dcd793row1_col1 {\n",
       "            background-color:  #023858;\n",
       "        }    #T_96bc6d7a_5886_11e9_af77_502b73dcd793row1_col2 {\n",
       "            background-color:  #e0dded;\n",
       "        }    #T_96bc6d7a_5886_11e9_af77_502b73dcd793row1_col3 {\n",
       "            background-color:  #fff7fb;\n",
       "        }    #T_96bc6d7a_5886_11e9_af77_502b73dcd793row1_col4 {\n",
       "            background-color:  #97b7d7;\n",
       "        }    #T_96bc6d7a_5886_11e9_af77_502b73dcd793row1_col5 {\n",
       "            background-color:  #f3edf5;\n",
       "        }    #T_96bc6d7a_5886_11e9_af77_502b73dcd793row1_col6 {\n",
       "            background-color:  #b8c6e0;\n",
       "        }    #T_96bc6d7a_5886_11e9_af77_502b73dcd793row1_col7 {\n",
       "            background-color:  #e1dfed;\n",
       "        }    #T_96bc6d7a_5886_11e9_af77_502b73dcd793row1_col8 {\n",
       "            background-color:  #e2dfee;\n",
       "        }    #T_96bc6d7a_5886_11e9_af77_502b73dcd793row2_col0 {\n",
       "            background-color:  #bdc8e1;\n",
       "        }    #T_96bc6d7a_5886_11e9_af77_502b73dcd793row2_col1 {\n",
       "            background-color:  #d0d1e6;\n",
       "        }    #T_96bc6d7a_5886_11e9_af77_502b73dcd793row2_col2 {\n",
       "            background-color:  #023858;\n",
       "        }    #T_96bc6d7a_5886_11e9_af77_502b73dcd793row2_col3 {\n",
       "            background-color:  #fbf3f9;\n",
       "        }    #T_96bc6d7a_5886_11e9_af77_502b73dcd793row2_col4 {\n",
       "            background-color:  #f3edf5;\n",
       "        }    #T_96bc6d7a_5886_11e9_af77_502b73dcd793row2_col5 {\n",
       "            background-color:  #fff7fb;\n",
       "        }    #T_96bc6d7a_5886_11e9_af77_502b73dcd793row2_col6 {\n",
       "            background-color:  #80aed2;\n",
       "        }    #T_96bc6d7a_5886_11e9_af77_502b73dcd793row2_col7 {\n",
       "            background-color:  #fff7fb;\n",
       "        }    #T_96bc6d7a_5886_11e9_af77_502b73dcd793row2_col8 {\n",
       "            background-color:  #529bc7;\n",
       "        }    #T_96bc6d7a_5886_11e9_af77_502b73dcd793row3_col0 {\n",
       "            background-color:  #a7bddb;\n",
       "        }    #T_96bc6d7a_5886_11e9_af77_502b73dcd793row3_col1 {\n",
       "            background-color:  #f5eff6;\n",
       "        }    #T_96bc6d7a_5886_11e9_af77_502b73dcd793row3_col2 {\n",
       "            background-color:  #fef6fa;\n",
       "        }    #T_96bc6d7a_5886_11e9_af77_502b73dcd793row3_col3 {\n",
       "            background-color:  #023858;\n",
       "        }    #T_96bc6d7a_5886_11e9_af77_502b73dcd793row3_col4 {\n",
       "            background-color:  #c4cbe3;\n",
       "        }    #T_96bc6d7a_5886_11e9_af77_502b73dcd793row3_col5 {\n",
       "            background-color:  #dcdaeb;\n",
       "        }    #T_96bc6d7a_5886_11e9_af77_502b73dcd793row3_col6 {\n",
       "            background-color:  #dedcec;\n",
       "        }    #T_96bc6d7a_5886_11e9_af77_502b73dcd793row3_col7 {\n",
       "            background-color:  #adc1dd;\n",
       "        }    #T_96bc6d7a_5886_11e9_af77_502b73dcd793row3_col8 {\n",
       "            background-color:  #d9d8ea;\n",
       "        }    #T_96bc6d7a_5886_11e9_af77_502b73dcd793row4_col0 {\n",
       "            background-color:  #f4eef6;\n",
       "        }    #T_96bc6d7a_5886_11e9_af77_502b73dcd793row4_col1 {\n",
       "            background-color:  #97b7d7;\n",
       "        }    #T_96bc6d7a_5886_11e9_af77_502b73dcd793row4_col2 {\n",
       "            background-color:  #fff7fb;\n",
       "        }    #T_96bc6d7a_5886_11e9_af77_502b73dcd793row4_col3 {\n",
       "            background-color:  #d2d3e7;\n",
       "        }    #T_96bc6d7a_5886_11e9_af77_502b73dcd793row4_col4 {\n",
       "            background-color:  #023858;\n",
       "        }    #T_96bc6d7a_5886_11e9_af77_502b73dcd793row4_col5 {\n",
       "            background-color:  #fdf5fa;\n",
       "        }    #T_96bc6d7a_5886_11e9_af77_502b73dcd793row4_col6 {\n",
       "            background-color:  #fff7fb;\n",
       "        }    #T_96bc6d7a_5886_11e9_af77_502b73dcd793row4_col7 {\n",
       "            background-color:  #d9d8ea;\n",
       "        }    #T_96bc6d7a_5886_11e9_af77_502b73dcd793row4_col8 {\n",
       "            background-color:  #fff7fb;\n",
       "        }    #T_96bc6d7a_5886_11e9_af77_502b73dcd793row5_col0 {\n",
       "            background-color:  #bdc8e1;\n",
       "        }    #T_96bc6d7a_5886_11e9_af77_502b73dcd793row5_col1 {\n",
       "            background-color:  #ced0e6;\n",
       "        }    #T_96bc6d7a_5886_11e9_af77_502b73dcd793row5_col2 {\n",
       "            background-color:  #ede8f3;\n",
       "        }    #T_96bc6d7a_5886_11e9_af77_502b73dcd793row5_col3 {\n",
       "            background-color:  #bdc8e1;\n",
       "        }    #T_96bc6d7a_5886_11e9_af77_502b73dcd793row5_col4 {\n",
       "            background-color:  #dbdaeb;\n",
       "        }    #T_96bc6d7a_5886_11e9_af77_502b73dcd793row5_col5 {\n",
       "            background-color:  #023858;\n",
       "        }    #T_96bc6d7a_5886_11e9_af77_502b73dcd793row5_col6 {\n",
       "            background-color:  #c0c9e2;\n",
       "        }    #T_96bc6d7a_5886_11e9_af77_502b73dcd793row5_col7 {\n",
       "            background-color:  #dcdaeb;\n",
       "        }    #T_96bc6d7a_5886_11e9_af77_502b73dcd793row5_col8 {\n",
       "            background-color:  #e8e4f0;\n",
       "        }    #T_96bc6d7a_5886_11e9_af77_502b73dcd793row6_col0 {\n",
       "            background-color:  #d0d1e6;\n",
       "        }    #T_96bc6d7a_5886_11e9_af77_502b73dcd793row6_col1 {\n",
       "            background-color:  #b8c6e0;\n",
       "        }    #T_96bc6d7a_5886_11e9_af77_502b73dcd793row6_col2 {\n",
       "            background-color:  #93b5d6;\n",
       "        }    #T_96bc6d7a_5886_11e9_af77_502b73dcd793row6_col3 {\n",
       "            background-color:  #eae6f1;\n",
       "        }    #T_96bc6d7a_5886_11e9_af77_502b73dcd793row6_col4 {\n",
       "            background-color:  #fff7fb;\n",
       "        }    #T_96bc6d7a_5886_11e9_af77_502b73dcd793row6_col5 {\n",
       "            background-color:  #eae6f1;\n",
       "        }    #T_96bc6d7a_5886_11e9_af77_502b73dcd793row6_col6 {\n",
       "            background-color:  #023858;\n",
       "        }    #T_96bc6d7a_5886_11e9_af77_502b73dcd793row6_col7 {\n",
       "            background-color:  #dbdaeb;\n",
       "        }    #T_96bc6d7a_5886_11e9_af77_502b73dcd793row6_col8 {\n",
       "            background-color:  #bfc9e1;\n",
       "        }    #T_96bc6d7a_5886_11e9_af77_502b73dcd793row7_col0 {\n",
       "            background-color:  #d0d1e6;\n",
       "        }    #T_96bc6d7a_5886_11e9_af77_502b73dcd793row7_col1 {\n",
       "            background-color:  #d0d1e6;\n",
       "        }    #T_96bc6d7a_5886_11e9_af77_502b73dcd793row7_col2 {\n",
       "            background-color:  #fef6fa;\n",
       "        }    #T_96bc6d7a_5886_11e9_af77_502b73dcd793row7_col3 {\n",
       "            background-color:  #a7bddb;\n",
       "        }    #T_96bc6d7a_5886_11e9_af77_502b73dcd793row7_col4 {\n",
       "            background-color:  #c5cce3;\n",
       "        }    #T_96bc6d7a_5886_11e9_af77_502b73dcd793row7_col5 {\n",
       "            background-color:  #f0eaf4;\n",
       "        }    #T_96bc6d7a_5886_11e9_af77_502b73dcd793row7_col6 {\n",
       "            background-color:  #c8cde4;\n",
       "        }    #T_96bc6d7a_5886_11e9_af77_502b73dcd793row7_col7 {\n",
       "            background-color:  #023858;\n",
       "        }    #T_96bc6d7a_5886_11e9_af77_502b73dcd793row7_col8 {\n",
       "            background-color:  #d6d6e9;\n",
       "        }    #T_96bc6d7a_5886_11e9_af77_502b73dcd793row8_col0 {\n",
       "            background-color:  #c6cce3;\n",
       "        }    #T_96bc6d7a_5886_11e9_af77_502b73dcd793row8_col1 {\n",
       "            background-color:  #cdd0e5;\n",
       "        }    #T_96bc6d7a_5886_11e9_af77_502b73dcd793row8_col2 {\n",
       "            background-color:  #4c99c5;\n",
       "        }    #T_96bc6d7a_5886_11e9_af77_502b73dcd793row8_col3 {\n",
       "            background-color:  #d1d2e6;\n",
       "        }    #T_96bc6d7a_5886_11e9_af77_502b73dcd793row8_col4 {\n",
       "            background-color:  #efe9f3;\n",
       "        }    #T_96bc6d7a_5886_11e9_af77_502b73dcd793row8_col5 {\n",
       "            background-color:  #f7f0f7;\n",
       "        }    #T_96bc6d7a_5886_11e9_af77_502b73dcd793row8_col6 {\n",
       "            background-color:  #a5bddb;\n",
       "        }    #T_96bc6d7a_5886_11e9_af77_502b73dcd793row8_col7 {\n",
       "            background-color:  #d3d4e7;\n",
       "        }    #T_96bc6d7a_5886_11e9_af77_502b73dcd793row8_col8 {\n",
       "            background-color:  #023858;\n",
       "        }</style>  \n",
       "<table id=\"T_96bc6d7a_5886_11e9_af77_502b73dcd793\" > \n",
       "<thead>    <tr> \n",
       "        <th class=\"blank level0\" ></th> \n",
       "        <th class=\"col_heading level0 col0\" >track_id</th> \n",
       "        <th class=\"col_heading level0 col1\" >acousticness</th> \n",
       "        <th class=\"col_heading level0 col2\" >danceability</th> \n",
       "        <th class=\"col_heading level0 col3\" >energy</th> \n",
       "        <th class=\"col_heading level0 col4\" >instrumentalness</th> \n",
       "        <th class=\"col_heading level0 col5\" >liveness</th> \n",
       "        <th class=\"col_heading level0 col6\" >speechiness</th> \n",
       "        <th class=\"col_heading level0 col7\" >tempo</th> \n",
       "        <th class=\"col_heading level0 col8\" >valence</th> \n",
       "    </tr></thead> \n",
       "<tbody>    <tr> \n",
       "        <th id=\"T_96bc6d7a_5886_11e9_af77_502b73dcd793level0_row0\" class=\"row_heading level0 row0\" >track_id</th> \n",
       "        <td id=\"T_96bc6d7a_5886_11e9_af77_502b73dcd793row0_col0\" class=\"data row0 col0\" >1</td> \n",
       "        <td id=\"T_96bc6d7a_5886_11e9_af77_502b73dcd793row0_col1\" class=\"data row0 col1\" >-0.372282</td> \n",
       "        <td id=\"T_96bc6d7a_5886_11e9_af77_502b73dcd793row0_col2\" class=\"data row0 col2\" >0.0494541</td> \n",
       "        <td id=\"T_96bc6d7a_5886_11e9_af77_502b73dcd793row0_col3\" class=\"data row0 col3\" >0.140703</td> \n",
       "        <td id=\"T_96bc6d7a_5886_11e9_af77_502b73dcd793row0_col4\" class=\"data row0 col4\" >-0.275623</td> \n",
       "        <td id=\"T_96bc6d7a_5886_11e9_af77_502b73dcd793row0_col5\" class=\"data row0 col5\" >0.0482307</td> \n",
       "        <td id=\"T_96bc6d7a_5886_11e9_af77_502b73dcd793row0_col6\" class=\"data row0 col6\" >-0.0269951</td> \n",
       "        <td id=\"T_96bc6d7a_5886_11e9_af77_502b73dcd793row0_col7\" class=\"data row0 col7\" >-0.0253918</td> \n",
       "        <td id=\"T_96bc6d7a_5886_11e9_af77_502b73dcd793row0_col8\" class=\"data row0 col8\" >0.0100698</td> \n",
       "    </tr>    <tr> \n",
       "        <th id=\"T_96bc6d7a_5886_11e9_af77_502b73dcd793level0_row1\" class=\"row_heading level0 row1\" >acousticness</th> \n",
       "        <td id=\"T_96bc6d7a_5886_11e9_af77_502b73dcd793row1_col0\" class=\"data row1 col0\" >-0.372282</td> \n",
       "        <td id=\"T_96bc6d7a_5886_11e9_af77_502b73dcd793row1_col1\" class=\"data row1 col1\" >1</td> \n",
       "        <td id=\"T_96bc6d7a_5886_11e9_af77_502b73dcd793row1_col2\" class=\"data row1 col2\" >-0.0289537</td> \n",
       "        <td id=\"T_96bc6d7a_5886_11e9_af77_502b73dcd793row1_col3\" class=\"data row1 col3\" >-0.281619</td> \n",
       "        <td id=\"T_96bc6d7a_5886_11e9_af77_502b73dcd793row1_col4\" class=\"data row1 col4\" >0.19478</td> \n",
       "        <td id=\"T_96bc6d7a_5886_11e9_af77_502b73dcd793row1_col5\" class=\"data row1 col5\" >-0.0199914</td> \n",
       "        <td id=\"T_96bc6d7a_5886_11e9_af77_502b73dcd793row1_col6\" class=\"data row1 col6\" >0.072204</td> \n",
       "        <td id=\"T_96bc6d7a_5886_11e9_af77_502b73dcd793row1_col7\" class=\"data row1 col7\" >-0.0263097</td> \n",
       "        <td id=\"T_96bc6d7a_5886_11e9_af77_502b73dcd793row1_col8\" class=\"data row1 col8\" >-0.0138406</td> \n",
       "    </tr>    <tr> \n",
       "        <th id=\"T_96bc6d7a_5886_11e9_af77_502b73dcd793level0_row2\" class=\"row_heading level0 row2\" >danceability</th> \n",
       "        <td id=\"T_96bc6d7a_5886_11e9_af77_502b73dcd793row2_col0\" class=\"data row2 col0\" >0.0494541</td> \n",
       "        <td id=\"T_96bc6d7a_5886_11e9_af77_502b73dcd793row2_col1\" class=\"data row2 col1\" >-0.0289537</td> \n",
       "        <td id=\"T_96bc6d7a_5886_11e9_af77_502b73dcd793row2_col2\" class=\"data row2 col2\" >1</td> \n",
       "        <td id=\"T_96bc6d7a_5886_11e9_af77_502b73dcd793row2_col3\" class=\"data row2 col3\" >-0.242032</td> \n",
       "        <td id=\"T_96bc6d7a_5886_11e9_af77_502b73dcd793row2_col4\" class=\"data row2 col4\" >-0.255217</td> \n",
       "        <td id=\"T_96bc6d7a_5886_11e9_af77_502b73dcd793row2_col5\" class=\"data row2 col5\" >-0.106584</td> \n",
       "        <td id=\"T_96bc6d7a_5886_11e9_af77_502b73dcd793row2_col6\" class=\"data row2 col6\" >0.276206</td> \n",
       "        <td id=\"T_96bc6d7a_5886_11e9_af77_502b73dcd793row2_col7\" class=\"data row2 col7\" >-0.242089</td> \n",
       "        <td id=\"T_96bc6d7a_5886_11e9_af77_502b73dcd793row2_col8\" class=\"data row2 col8\" >0.473165</td> \n",
       "    </tr>    <tr> \n",
       "        <th id=\"T_96bc6d7a_5886_11e9_af77_502b73dcd793level0_row3\" class=\"row_heading level0 row3\" >energy</th> \n",
       "        <td id=\"T_96bc6d7a_5886_11e9_af77_502b73dcd793row3_col0\" class=\"data row3 col0\" >0.140703</td> \n",
       "        <td id=\"T_96bc6d7a_5886_11e9_af77_502b73dcd793row3_col1\" class=\"data row3 col1\" >-0.281619</td> \n",
       "        <td id=\"T_96bc6d7a_5886_11e9_af77_502b73dcd793row3_col2\" class=\"data row3 col2\" >-0.242032</td> \n",
       "        <td id=\"T_96bc6d7a_5886_11e9_af77_502b73dcd793row3_col3\" class=\"data row3 col3\" >1</td> \n",
       "        <td id=\"T_96bc6d7a_5886_11e9_af77_502b73dcd793row3_col4\" class=\"data row3 col4\" >0.0282377</td> \n",
       "        <td id=\"T_96bc6d7a_5886_11e9_af77_502b73dcd793row3_col5\" class=\"data row3 col5\" >0.113331</td> \n",
       "        <td id=\"T_96bc6d7a_5886_11e9_af77_502b73dcd793row3_col6\" class=\"data row3 col6\" >-0.109983</td> \n",
       "        <td id=\"T_96bc6d7a_5886_11e9_af77_502b73dcd793row3_col7\" class=\"data row3 col7\" >0.195227</td> \n",
       "        <td id=\"T_96bc6d7a_5886_11e9_af77_502b73dcd793row3_col8\" class=\"data row3 col8\" >0.0386027</td> \n",
       "    </tr>    <tr> \n",
       "        <th id=\"T_96bc6d7a_5886_11e9_af77_502b73dcd793level0_row4\" class=\"row_heading level0 row4\" >instrumentalness</th> \n",
       "        <td id=\"T_96bc6d7a_5886_11e9_af77_502b73dcd793row4_col0\" class=\"data row4 col0\" >-0.275623</td> \n",
       "        <td id=\"T_96bc6d7a_5886_11e9_af77_502b73dcd793row4_col1\" class=\"data row4 col1\" >0.19478</td> \n",
       "        <td id=\"T_96bc6d7a_5886_11e9_af77_502b73dcd793row4_col2\" class=\"data row4 col2\" >-0.255217</td> \n",
       "        <td id=\"T_96bc6d7a_5886_11e9_af77_502b73dcd793row4_col3\" class=\"data row4 col3\" >0.0282377</td> \n",
       "        <td id=\"T_96bc6d7a_5886_11e9_af77_502b73dcd793row4_col4\" class=\"data row4 col4\" >1</td> \n",
       "        <td id=\"T_96bc6d7a_5886_11e9_af77_502b73dcd793row4_col5\" class=\"data row4 col5\" >-0.0910218</td> \n",
       "        <td id=\"T_96bc6d7a_5886_11e9_af77_502b73dcd793row4_col6\" class=\"data row4 col6\" >-0.366762</td> \n",
       "        <td id=\"T_96bc6d7a_5886_11e9_af77_502b73dcd793row4_col7\" class=\"data row4 col7\" >0.022215</td> \n",
       "        <td id=\"T_96bc6d7a_5886_11e9_af77_502b73dcd793row4_col8\" class=\"data row4 col8\" >-0.219967</td> \n",
       "    </tr>    <tr> \n",
       "        <th id=\"T_96bc6d7a_5886_11e9_af77_502b73dcd793level0_row5\" class=\"row_heading level0 row5\" >liveness</th> \n",
       "        <td id=\"T_96bc6d7a_5886_11e9_af77_502b73dcd793row5_col0\" class=\"data row5 col0\" >0.0482307</td> \n",
       "        <td id=\"T_96bc6d7a_5886_11e9_af77_502b73dcd793row5_col1\" class=\"data row5 col1\" >-0.0199914</td> \n",
       "        <td id=\"T_96bc6d7a_5886_11e9_af77_502b73dcd793row5_col2\" class=\"data row5 col2\" >-0.106584</td> \n",
       "        <td id=\"T_96bc6d7a_5886_11e9_af77_502b73dcd793row5_col3\" class=\"data row5 col3\" >0.113331</td> \n",
       "        <td id=\"T_96bc6d7a_5886_11e9_af77_502b73dcd793row5_col4\" class=\"data row5 col4\" >-0.0910218</td> \n",
       "        <td id=\"T_96bc6d7a_5886_11e9_af77_502b73dcd793row5_col5\" class=\"data row5 col5\" >1</td> \n",
       "        <td id=\"T_96bc6d7a_5886_11e9_af77_502b73dcd793row5_col6\" class=\"data row5 col6\" >0.0411725</td> \n",
       "        <td id=\"T_96bc6d7a_5886_11e9_af77_502b73dcd793row5_col7\" class=\"data row5 col7\" >0.00273169</td> \n",
       "        <td id=\"T_96bc6d7a_5886_11e9_af77_502b73dcd793row5_col8\" class=\"data row5 col8\" >-0.0450931</td> \n",
       "    </tr>    <tr> \n",
       "        <th id=\"T_96bc6d7a_5886_11e9_af77_502b73dcd793level0_row6\" class=\"row_heading level0 row6\" >speechiness</th> \n",
       "        <td id=\"T_96bc6d7a_5886_11e9_af77_502b73dcd793row6_col0\" class=\"data row6 col0\" >-0.0269951</td> \n",
       "        <td id=\"T_96bc6d7a_5886_11e9_af77_502b73dcd793row6_col1\" class=\"data row6 col1\" >0.072204</td> \n",
       "        <td id=\"T_96bc6d7a_5886_11e9_af77_502b73dcd793row6_col2\" class=\"data row6 col2\" >0.276206</td> \n",
       "        <td id=\"T_96bc6d7a_5886_11e9_af77_502b73dcd793row6_col3\" class=\"data row6 col3\" >-0.109983</td> \n",
       "        <td id=\"T_96bc6d7a_5886_11e9_af77_502b73dcd793row6_col4\" class=\"data row6 col4\" >-0.366762</td> \n",
       "        <td id=\"T_96bc6d7a_5886_11e9_af77_502b73dcd793row6_col5\" class=\"data row6 col5\" >0.0411725</td> \n",
       "        <td id=\"T_96bc6d7a_5886_11e9_af77_502b73dcd793row6_col6\" class=\"data row6 col6\" >1</td> \n",
       "        <td id=\"T_96bc6d7a_5886_11e9_af77_502b73dcd793row6_col7\" class=\"data row6 col7\" >0.00824055</td> \n",
       "        <td id=\"T_96bc6d7a_5886_11e9_af77_502b73dcd793row6_col8\" class=\"data row6 col8\" >0.149894</td> \n",
       "    </tr>    <tr> \n",
       "        <th id=\"T_96bc6d7a_5886_11e9_af77_502b73dcd793level0_row7\" class=\"row_heading level0 row7\" >tempo</th> \n",
       "        <td id=\"T_96bc6d7a_5886_11e9_af77_502b73dcd793row7_col0\" class=\"data row7 col0\" >-0.0253918</td> \n",
       "        <td id=\"T_96bc6d7a_5886_11e9_af77_502b73dcd793row7_col1\" class=\"data row7 col1\" >-0.0263097</td> \n",
       "        <td id=\"T_96bc6d7a_5886_11e9_af77_502b73dcd793row7_col2\" class=\"data row7 col2\" >-0.242089</td> \n",
       "        <td id=\"T_96bc6d7a_5886_11e9_af77_502b73dcd793row7_col3\" class=\"data row7 col3\" >0.195227</td> \n",
       "        <td id=\"T_96bc6d7a_5886_11e9_af77_502b73dcd793row7_col4\" class=\"data row7 col4\" >0.022215</td> \n",
       "        <td id=\"T_96bc6d7a_5886_11e9_af77_502b73dcd793row7_col5\" class=\"data row7 col5\" >0.00273169</td> \n",
       "        <td id=\"T_96bc6d7a_5886_11e9_af77_502b73dcd793row7_col6\" class=\"data row7 col6\" >0.00824055</td> \n",
       "        <td id=\"T_96bc6d7a_5886_11e9_af77_502b73dcd793row7_col7\" class=\"data row7 col7\" >1</td> \n",
       "        <td id=\"T_96bc6d7a_5886_11e9_af77_502b73dcd793row7_col8\" class=\"data row7 col8\" >0.0522212</td> \n",
       "    </tr>    <tr> \n",
       "        <th id=\"T_96bc6d7a_5886_11e9_af77_502b73dcd793level0_row8\" class=\"row_heading level0 row8\" >valence</th> \n",
       "        <td id=\"T_96bc6d7a_5886_11e9_af77_502b73dcd793row8_col0\" class=\"data row8 col0\" >0.0100698</td> \n",
       "        <td id=\"T_96bc6d7a_5886_11e9_af77_502b73dcd793row8_col1\" class=\"data row8 col1\" >-0.0138406</td> \n",
       "        <td id=\"T_96bc6d7a_5886_11e9_af77_502b73dcd793row8_col2\" class=\"data row8 col2\" >0.473165</td> \n",
       "        <td id=\"T_96bc6d7a_5886_11e9_af77_502b73dcd793row8_col3\" class=\"data row8 col3\" >0.0386027</td> \n",
       "        <td id=\"T_96bc6d7a_5886_11e9_af77_502b73dcd793row8_col4\" class=\"data row8 col4\" >-0.219967</td> \n",
       "        <td id=\"T_96bc6d7a_5886_11e9_af77_502b73dcd793row8_col5\" class=\"data row8 col5\" >-0.0450931</td> \n",
       "        <td id=\"T_96bc6d7a_5886_11e9_af77_502b73dcd793row8_col6\" class=\"data row8 col6\" >0.149894</td> \n",
       "        <td id=\"T_96bc6d7a_5886_11e9_af77_502b73dcd793row8_col7\" class=\"data row8 col7\" >0.0522212</td> \n",
       "        <td id=\"T_96bc6d7a_5886_11e9_af77_502b73dcd793row8_col8\" class=\"data row8 col8\" >1</td> \n",
       "    </tr></tbody> \n",
       "</table> "
      ],
      "text/plain": [
       "<pandas.io.formats.style.Styler at 0x7f66973bc240>"
      ]
     },
     "execution_count": 14,
     "metadata": {},
     "output_type": "execute_result"
    }
   ],
   "source": [
    "# Creating a correlation matrix\n",
    "corr_metrics = echo_tracks.corr()\n",
    "corr_metrics.style.background_gradient()"
   ]
  },
  {
   "cell_type": "code",
   "execution_count": 15,
   "metadata": {},
   "outputs": [
    {
     "data": {
      "text/plain": [
       "<matplotlib.axes._subplots.AxesSubplot at 0x7f6698185198>"
      ]
     },
     "execution_count": 15,
     "metadata": {},
     "output_type": "execute_result"
    },
    {
     "data": {
      "image/png": "[encoded data removed]",
      "text/plain": [
       "<Figure size 2160x720 with 2 Axes>"
      ]
     },
     "metadata": {},
     "output_type": "display_data"
    }
   ],
   "source": [
    "#heat map\n",
    "plt.subplots(figsize=(30,10))\n",
    "sns.heatmap( corr_metrics, square=True, annot=True, fmt=\".1f\" )"
   ]
  },
  {
   "cell_type": "code",
   "execution_count": 16,
   "metadata": {},
   "outputs": [
    {
     "data": {
      "text/html": [
       "<div>\n",
       "<style scoped>\n",
       "    .dataframe tbody tr th:only-of-type {\n",
       "        vertical-align: middle;\n",
       "    }\n",
       "\n",
       "    .dataframe tbody tr th {\n",
       "        vertical-align: top;\n",
       "    }\n",
       "\n",
       "    .dataframe thead th {\n",
       "        text-align: right;\n",
       "    }\n",
       "</style>\n",
       "<table border=\"1\" class=\"dataframe\">\n",
       "  <thead>\n",
       "    <tr style=\"text-align: right;\">\n",
       "      <th></th>\n",
       "      <th>acousticness</th>\n",
       "      <th>danceability</th>\n",
       "      <th>energy</th>\n",
       "      <th>instrumentalness</th>\n",
       "      <th>liveness</th>\n",
       "      <th>speechiness</th>\n",
       "      <th>tempo</th>\n",
       "      <th>valence</th>\n",
       "    </tr>\n",
       "  </thead>\n",
       "  <tbody>\n",
       "    <tr>\n",
       "      <th>count</th>\n",
       "      <td>4.802000e+03</td>\n",
       "      <td>4802.000000</td>\n",
       "      <td>4802.000000</td>\n",
       "      <td>4802.000000</td>\n",
       "      <td>4802.000000</td>\n",
       "      <td>4802.000000</td>\n",
       "      <td>4802.000000</td>\n",
       "      <td>4802.000000</td>\n",
       "    </tr>\n",
       "    <tr>\n",
       "      <th>mean</th>\n",
       "      <td>4.870600e-01</td>\n",
       "      <td>0.436556</td>\n",
       "      <td>0.625126</td>\n",
       "      <td>0.604096</td>\n",
       "      <td>0.187997</td>\n",
       "      <td>0.104877</td>\n",
       "      <td>126.687944</td>\n",
       "      <td>0.453413</td>\n",
       "    </tr>\n",
       "    <tr>\n",
       "      <th>std</th>\n",
       "      <td>3.681396e-01</td>\n",
       "      <td>0.183502</td>\n",
       "      <td>0.244051</td>\n",
       "      <td>0.376487</td>\n",
       "      <td>0.150562</td>\n",
       "      <td>0.145934</td>\n",
       "      <td>34.002473</td>\n",
       "      <td>0.266632</td>\n",
       "    </tr>\n",
       "    <tr>\n",
       "      <th>min</th>\n",
       "      <td>9.491000e-07</td>\n",
       "      <td>0.051307</td>\n",
       "      <td>0.000279</td>\n",
       "      <td>0.000000</td>\n",
       "      <td>0.025297</td>\n",
       "      <td>0.023234</td>\n",
       "      <td>29.093000</td>\n",
       "      <td>0.014392</td>\n",
       "    </tr>\n",
       "    <tr>\n",
       "      <th>25%</th>\n",
       "      <td>8.351236e-02</td>\n",
       "      <td>0.296047</td>\n",
       "      <td>0.450757</td>\n",
       "      <td>0.164972</td>\n",
       "      <td>0.104052</td>\n",
       "      <td>0.036897</td>\n",
       "      <td>98.000750</td>\n",
       "      <td>0.224617</td>\n",
       "    </tr>\n",
       "    <tr>\n",
       "      <th>50%</th>\n",
       "      <td>5.156888e-01</td>\n",
       "      <td>0.419447</td>\n",
       "      <td>0.648374</td>\n",
       "      <td>0.808752</td>\n",
       "      <td>0.123080</td>\n",
       "      <td>0.049594</td>\n",
       "      <td>124.625500</td>\n",
       "      <td>0.446240</td>\n",
       "    </tr>\n",
       "    <tr>\n",
       "      <th>75%</th>\n",
       "      <td>8.555765e-01</td>\n",
       "      <td>0.565339</td>\n",
       "      <td>0.837016</td>\n",
       "      <td>0.915472</td>\n",
       "      <td>0.215151</td>\n",
       "      <td>0.088290</td>\n",
       "      <td>151.450000</td>\n",
       "      <td>0.666914</td>\n",
       "    </tr>\n",
       "    <tr>\n",
       "      <th>max</th>\n",
       "      <td>9.957965e-01</td>\n",
       "      <td>0.961871</td>\n",
       "      <td>0.999768</td>\n",
       "      <td>0.993134</td>\n",
       "      <td>0.971392</td>\n",
       "      <td>0.966177</td>\n",
       "      <td>250.059000</td>\n",
       "      <td>0.983649</td>\n",
       "    </tr>\n",
       "  </tbody>\n",
       "</table>\n",
       "</div>"
      ],
      "text/plain": [
       "       acousticness  danceability       energy  instrumentalness     liveness  \\\n",
       "count  4.802000e+03   4802.000000  4802.000000       4802.000000  4802.000000   \n",
       "mean   4.870600e-01      0.436556     0.625126          0.604096     0.187997   \n",
       "std    3.681396e-01      0.183502     0.244051          0.376487     0.150562   \n",
       "min    9.491000e-07      0.051307     0.000279          0.000000     0.025297   \n",
       "25%    8.351236e-02      0.296047     0.450757          0.164972     0.104052   \n",
       "50%    5.156888e-01      0.419447     0.648374          0.808752     0.123080   \n",
       "75%    8.555765e-01      0.565339     0.837016          0.915472     0.215151   \n",
       "max    9.957965e-01      0.961871     0.999768          0.993134     0.971392   \n",
       "\n",
       "       speechiness        tempo      valence  \n",
       "count  4802.000000  4802.000000  4802.000000  \n",
       "mean      0.104877   126.687944     0.453413  \n",
       "std       0.145934    34.002473     0.266632  \n",
       "min       0.023234    29.093000     0.014392  \n",
       "25%       0.036897    98.000750     0.224617  \n",
       "50%       0.049594   124.625500     0.446240  \n",
       "75%       0.088290   151.450000     0.666914  \n",
       "max       0.966177   250.059000     0.983649  "
      ]
     },
     "execution_count": 16,
     "metadata": {},
     "output_type": "execute_result"
    }
   ],
   "source": [
    "echo_tracks.drop([\"track_id\"], axis=1).describe()"
   ]
  },
  {
   "cell_type": "code",
   "execution_count": 17,
   "metadata": {},
   "outputs": [],
   "source": [
    "# Defining our features \n",
    "features = echo_tracks.drop(columns=['genre_top','track_id'],axis=1)\n",
    "\n",
    "# Defining our labels\n",
    "labels = echo_tracks['genre_top']\n"
   ]
  },
  {
   "cell_type": "code",
   "execution_count": 18,
   "metadata": {},
   "outputs": [
    {
     "data": {
      "text/plain": [
       "0    Hip-Hop\n",
       "1    Hip-Hop\n",
       "2       Rock\n",
       "3       Rock\n",
       "4       Rock\n",
       "Name: genre_top, dtype: object"
      ]
     },
     "execution_count": 18,
     "metadata": {},
     "output_type": "execute_result"
    }
   ],
   "source": [
    "labels.head()"
   ]
  },
  {
   "cell_type": "code",
   "execution_count": 19,
   "metadata": {},
   "outputs": [
    {
     "data": {
      "text/html": [
       "<div>\n",
       "<style scoped>\n",
       "    .dataframe tbody tr th:only-of-type {\n",
       "        vertical-align: middle;\n",
       "    }\n",
       "\n",
       "    .dataframe tbody tr th {\n",
       "        vertical-align: top;\n",
       "    }\n",
       "\n",
       "    .dataframe thead th {\n",
       "        text-align: right;\n",
       "    }\n",
       "</style>\n",
       "<table border=\"1\" class=\"dataframe\">\n",
       "  <thead>\n",
       "    <tr style=\"text-align: right;\">\n",
       "      <th></th>\n",
       "      <th>acousticness</th>\n",
       "      <th>danceability</th>\n",
       "      <th>energy</th>\n",
       "      <th>instrumentalness</th>\n",
       "      <th>liveness</th>\n",
       "      <th>speechiness</th>\n",
       "      <th>tempo</th>\n",
       "      <th>valence</th>\n",
       "    </tr>\n",
       "  </thead>\n",
       "  <tbody>\n",
       "    <tr>\n",
       "      <th>0</th>\n",
       "      <td>0.416675</td>\n",
       "      <td>0.675894</td>\n",
       "      <td>0.634476</td>\n",
       "      <td>0.010628</td>\n",
       "      <td>0.177647</td>\n",
       "      <td>0.159310</td>\n",
       "      <td>165.922</td>\n",
       "      <td>0.576661</td>\n",
       "    </tr>\n",
       "    <tr>\n",
       "      <th>1</th>\n",
       "      <td>0.374408</td>\n",
       "      <td>0.528643</td>\n",
       "      <td>0.817461</td>\n",
       "      <td>0.001851</td>\n",
       "      <td>0.105880</td>\n",
       "      <td>0.461818</td>\n",
       "      <td>126.957</td>\n",
       "      <td>0.269240</td>\n",
       "    </tr>\n",
       "    <tr>\n",
       "      <th>2</th>\n",
       "      <td>0.977282</td>\n",
       "      <td>0.468808</td>\n",
       "      <td>0.134975</td>\n",
       "      <td>0.687700</td>\n",
       "      <td>0.105381</td>\n",
       "      <td>0.073124</td>\n",
       "      <td>119.646</td>\n",
       "      <td>0.430707</td>\n",
       "    </tr>\n",
       "    <tr>\n",
       "      <th>3</th>\n",
       "      <td>0.953349</td>\n",
       "      <td>0.498525</td>\n",
       "      <td>0.552503</td>\n",
       "      <td>0.924391</td>\n",
       "      <td>0.684914</td>\n",
       "      <td>0.028885</td>\n",
       "      <td>78.958</td>\n",
       "      <td>0.430448</td>\n",
       "    </tr>\n",
       "    <tr>\n",
       "      <th>4</th>\n",
       "      <td>0.613229</td>\n",
       "      <td>0.500320</td>\n",
       "      <td>0.487992</td>\n",
       "      <td>0.936811</td>\n",
       "      <td>0.637750</td>\n",
       "      <td>0.030327</td>\n",
       "      <td>112.667</td>\n",
       "      <td>0.824749</td>\n",
       "    </tr>\n",
       "  </tbody>\n",
       "</table>\n",
       "</div>"
      ],
      "text/plain": [
       "   acousticness  danceability    energy  instrumentalness  liveness  \\\n",
       "0      0.416675      0.675894  0.634476          0.010628  0.177647   \n",
       "1      0.374408      0.528643  0.817461          0.001851  0.105880   \n",
       "2      0.977282      0.468808  0.134975          0.687700  0.105381   \n",
       "3      0.953349      0.498525  0.552503          0.924391  0.684914   \n",
       "4      0.613229      0.500320  0.487992          0.936811  0.637750   \n",
       "\n",
       "   speechiness    tempo   valence  \n",
       "0     0.159310  165.922  0.576661  \n",
       "1     0.461818  126.957  0.269240  \n",
       "2     0.073124  119.646  0.430707  \n",
       "3     0.028885   78.958  0.430448  \n",
       "4     0.030327  112.667  0.824749  "
      ]
     },
     "execution_count": 19,
     "metadata": {},
     "output_type": "execute_result"
    }
   ],
   "source": [
    "#Feature Scaling\n",
    "#Scaling the features and setting the values to new variable\n",
    "\n",
    "# Importing the StandardScaler\n",
    "from sklearn.preprocessing import StandardScaler\n",
    "\n",
    "# Scaling the features and set the values to a new variable\n",
    "scaler = StandardScaler()\n",
    "scaled_train_features = scaler.fit_transform(features)\n",
    "pd.DataFrame(features).head()"
   ]
  },
  {
   "cell_type": "code",
   "execution_count": 20,
   "metadata": {
    "scrolled": true
   },
   "outputs": [
    {
     "data": {
      "text/plain": [
       "Text(0.5,0,'Principal Component #')"
      ]
     },
     "execution_count": 20,
     "metadata": {},
     "output_type": "execute_result"
    },
    {
     "data": {
      "image/png": "[encoded data removed]",
      "text/plain": [
       "<Figure size 432x288 with 1 Axes>"
      ]
     },
     "metadata": {},
     "output_type": "display_data"
    }
   ],
   "source": [
    "# Import the PCA class\n",
    "import matplotlib.pyplot as plt\n",
    "from sklearn.decomposition import PCA\n",
    "\n",
    "# Get our explained variance ratios from PCA using all features\n",
    "pca = PCA()\n",
    "pca.fit(scaled_train_features)\n",
    "exp_variance = pca.explained_variance_ratio_\n",
    "\n",
    "# plot the explained variance using a barplot\n",
    "fig, ax = plt.subplots()\n",
    "ax.bar(range(pca.n_components_), exp_variance)\n",
    "ax.set_xlabel('Principal Component #')"
   ]
  },
  {
   "cell_type": "code",
   "execution_count": 21,
   "metadata": {},
   "outputs": [],
   "source": [
    "#unfortunately, there does not appear to be a clear elbow in this scree plot"
   ]
  },
  {
   "cell_type": "code",
   "execution_count": 22,
   "metadata": {},
   "outputs": [],
   "source": [
    "#we can also look at the cumulative explained variance plot\n",
    "#to determine how many features are required to explain, say, about 90% of the variance "
   ]
  },
  {
   "cell_type": "code",
   "execution_count": 23,
   "metadata": {},
   "outputs": [
    {
     "data": {
      "image/png": "[encoded data removed]",
      "text/plain": [
       "<Figure size 432x288 with 1 Axes>"
      ]
     },
     "metadata": {},
     "output_type": "display_data"
    }
   ],
   "source": [
    "# Calculating the cumulative explained variance\n",
    "cum_exp_variance = np.cumsum(exp_variance)\n",
    "#print(cum_exp_variance)\n",
    "\n",
    "# Ploting the cumulative explained variance and draw a dashed line at 0.90.\n",
    "fig, ax = plt.subplots()\n",
    "#print(cum_exp_variance)\n",
    "ax.plot(range(8),cum_exp_variance)\n",
    "ax.axhline(y=0.9, linestyle='--')\n",
    "n_components = 6\n",
    "\n",
    "#Performing PCA with the chosen number of components and project data onto components\n",
    "pca = PCA(n_components, random_state=10)\n",
    "pca.fit(scaled_train_features)\n",
    "pca_projection = pca.transform(scaled_train_features)"
   ]
  },
  {
   "cell_type": "code",
   "execution_count": 24,
   "metadata": {},
   "outputs": [],
   "source": [
    "# Importing train_test_split function \n",
    "from sklearn.model_selection import train_test_split\n",
    "\n",
    "# Splitting our data\n",
    "train_features, test_features, train_labels, test_labels = train_test_split(pca_projection,labels,random_state=10)"
   ]
  },
  {
   "cell_type": "code",
   "execution_count": 25,
   "metadata": {},
   "outputs": [],
   "source": [
    "#Importing the Decision tree classifier\n",
    "from sklearn.tree import DecisionTreeClassifier\n",
    "\n",
    "# Train our decision tree\n",
    "tree = DecisionTreeClassifier(random_state=10)\n",
    "tree.fit(train_features,train_labels)\n",
    "\n",
    "# Predict the labels for the test data\n",
    "pred_labels_tree = tree.predict(test_features)"
   ]
  },
  {
   "cell_type": "code",
   "execution_count": 26,
   "metadata": {},
   "outputs": [],
   "source": [
    "# Importing LogisticRegression\n",
    "from sklearn.linear_model import LogisticRegression\n",
    "\n",
    "# Training our logistic regression and predicting labels for the test set\n",
    "logreg = LogisticRegression(random_state=10)\n",
    "logreg.fit(train_features,train_labels)\n",
    "pred_labels_logit = logreg.predict(test_features)"
   ]
  },
  {
   "cell_type": "code",
   "execution_count": 27,
   "metadata": {},
   "outputs": [
    {
     "name": "stdout",
     "output_type": "stream",
     "text": [
      "Decision Tree: \n",
      "              precision    recall  f1-score   support\n",
      "\n",
      "    Hip-Hop       0.66      0.66      0.66       229\n",
      "       Rock       0.92      0.92      0.92       972\n",
      "\n",
      "avg / total       0.87      0.87      0.87      1201\n",
      "\n",
      "Logistic Regression: \n",
      "              precision    recall  f1-score   support\n",
      "\n",
      "    Hip-Hop       0.75      0.57      0.65       229\n",
      "       Rock       0.90      0.95      0.93       972\n",
      "\n",
      "avg / total       0.87      0.88      0.87      1201\n",
      "\n"
     ]
    }
   ],
   "source": [
    "# Creating the classification report for both models\n",
    "from sklearn.metrics import classification_report\n",
    "class_rep_tree = classification_report(test_labels,pred_labels_tree)\n",
    "class_rep_log = classification_report(test_labels,pred_labels_logit)\n",
    "\n",
    "print(\"Decision Tree: \\n\", class_rep_tree)\n",
    "print(\"Logistic Regression: \\n\", class_rep_log)"
   ]
  },
  {
   "cell_type": "code",
   "execution_count": 28,
   "metadata": {},
   "outputs": [],
   "source": [
    "#looking at our classification report, we can see that rock songs are fairly well classified\n",
    "#but hip-hop songs are disproportionately misclassified as rock songs. "
   ]
  },
  {
   "cell_type": "code",
   "execution_count": 29,
   "metadata": {},
   "outputs": [
    {
     "data": {
      "text/plain": [
       "Rock       3892\n",
       "Hip-Hop     910\n",
       "Name: genre_top, dtype: int64"
      ]
     },
     "metadata": {},
     "output_type": "display_data"
    }
   ],
   "source": [
    "display(echo_tracks[\"genre_top\"].value_counts())"
   ]
  },
  {
   "cell_type": "code",
   "execution_count": 30,
   "metadata": {},
   "outputs": [],
   "source": [
    "# Subset only the hip-hop tracks, and then only the rock tracks\n",
    "hop_only = echo_tracks.loc[echo_tracks['genre_top'] == 'Hip-Hop']\n",
    "rock_only = echo_tracks.loc[echo_tracks['genre_top'] == 'Rock']\n",
    "\n",
    "# sample the rocks songs to be the same number as there are hip-hop songs\n",
    "rock_only = rock_only.sample(n=hop_only.shape[0], random_state=10)\n",
    "\n",
    "# concatenate the dataframes rock_only and hop_only\n",
    "rock_hop_bal = pd.concat([rock_only, hop_only])\n",
    "\n",
    "# The features, labels, and pca projection are created for the balanced dataframe\n",
    "features = rock_hop_bal.drop(['genre_top', 'track_id'], axis=1) \n",
    "labels = rock_hop_bal['genre_top']\n",
    "pca_projection = pca.fit_transform(scaler.fit_transform(features))\n",
    "\n",
    "# Redefine the train and test set with the pca_projection from the balanced data\n",
    "train_features, test_features, train_labels, test_labels = train_test_split(pca_projection, labels, \n",
    "                                                                            random_state=10)"
   ]
  },
  {
   "cell_type": "code",
   "execution_count": 31,
   "metadata": {},
   "outputs": [],
   "source": [
    "from sklearn.metrics import confusion_matrix\n",
    "genres = ['Hip-Hop','Rock']"
   ]
  },
  {
   "cell_type": "code",
   "execution_count": 32,
   "metadata": {},
   "outputs": [
    {
     "name": "stdout",
     "output_type": "stream",
     "text": [
      "Decision Tree: \n",
      "\n"
     ]
    },
    {
     "data": {
      "image/png": "[encoded data removed]",
      "text/plain": [
       "<Figure size 432x288 with 2 Axes>"
      ]
     },
     "metadata": {},
     "output_type": "display_data"
    },
    {
     "name": "stdout",
     "output_type": "stream",
     "text": [
      "             precision    recall  f1-score   support\n",
      "\n",
      "    Hip-Hop       0.77      0.77      0.77       230\n",
      "       Rock       0.76      0.76      0.76       225\n",
      "\n",
      "avg / total       0.76      0.76      0.76       455\n",
      "\n"
     ]
    }
   ],
   "source": [
    "# Training our decision tree on the balanced data\n",
    "tree = DecisionTreeClassifier(random_state=10)\n",
    "tree.fit(train_features,train_labels)\n",
    "pred_labels_tree = tree.predict(test_features)\n",
    "\n",
    "print(\"Decision Tree: \\n\")\n",
    "#print(confusion_matrix(test_labels, pred_labels_tree))\n",
    "sns.heatmap(confusion_matrix(test_labels, pred_labels_tree),xticklabels=genres,yticklabels=genres)\n",
    "plt.xlabel('Predicted')\n",
    "plt.ylabel('Actual')\n",
    "plt.show()\n",
    "\n",
    "# Creating classification report\n",
    "print(classification_report(test_labels,pred_labels_tree))"
   ]
  },
  {
   "cell_type": "code",
   "execution_count": 33,
   "metadata": {},
   "outputs": [
    {
     "name": "stdout",
     "output_type": "stream",
     "text": [
      "Logistic Regression: \n",
      "\n"
     ]
    },
    {
     "data": {
      "image/png": "[encoded data removed]",
      "text/plain": [
       "<Figure size 432x288 with 2 Axes>"
      ]
     },
     "metadata": {},
     "output_type": "display_data"
    },
    {
     "name": "stdout",
     "output_type": "stream",
     "text": [
      "             precision    recall  f1-score   support\n",
      "\n",
      "    Hip-Hop       0.82      0.83      0.82       230\n",
      "       Rock       0.82      0.81      0.82       225\n",
      "\n",
      "avg / total       0.82      0.82      0.82       455\n",
      "\n"
     ]
    }
   ],
   "source": [
    "# Training our logistic regression on the balanced data\n",
    "logreg = LogisticRegression(random_state=10)\n",
    "logreg.fit(train_features,train_labels)\n",
    "pred_labels_logit = logreg.predict(test_features)\n",
    "\n",
    "print(\"Logistic Regression: \\n\")\n",
    "#print(confusion_matrix(test_labels, pred_labels_tree))\n",
    "sns.heatmap(confusion_matrix(test_labels, pred_labels_logit),xticklabels=genres,yticklabels=genres)\n",
    "plt.xlabel('Predicted')\n",
    "plt.ylabel('Actual')\n",
    "plt.show()\n",
    "\n",
    "# Creating classification report\n",
    "print(classification_report(test_labels,pred_labels_logit))"
   ]
  },
  {
   "cell_type": "code",
   "execution_count": 34,
   "metadata": {},
   "outputs": [
    {
     "name": "stdout",
     "output_type": "stream",
     "text": [
      "Random Forest: \n",
      "\n"
     ]
    },
    {
     "data": {
      "image/png": "[encoded data removed]",
      "text/plain": [
       "<Figure size 432x288 with 2 Axes>"
      ]
     },
     "metadata": {},
     "output_type": "display_data"
    },
    {
     "name": "stdout",
     "output_type": "stream",
     "text": [
      "             precision    recall  f1-score   support\n",
      "\n",
      "    Hip-Hop       0.82      0.87      0.84       230\n",
      "       Rock       0.85      0.80      0.83       225\n",
      "\n",
      "avg / total       0.84      0.84      0.83       455\n",
      "\n"
     ]
    }
   ],
   "source": [
    "from sklearn.ensemble import RandomForestClassifier\n",
    "\n",
    "# Training our random forest classifier on the balanced data\n",
    "rfc = RandomForestClassifier(random_state=10)\n",
    "rfc.fit(train_features,train_labels)\n",
    "pred_labels_rfc = rfc.predict(test_features)\n",
    "\n",
    "print(\"Random Forest: \\n\")\n",
    "#print(confusion_matrix(test_labels, pred_labels_tree))\n",
    "sns.heatmap(confusion_matrix(test_labels, pred_labels_rfc),xticklabels=genres,yticklabels=genres)\n",
    "plt.xlabel('Predicted')\n",
    "plt.ylabel('Actual')\n",
    "plt.show()\n",
    "\n",
    "\n",
    "# Creating classification report\n",
    "print(classification_report(test_labels,pred_labels_rfc))"
   ]
  },
  {
   "cell_type": "code",
   "execution_count": 35,
   "metadata": {},
   "outputs": [
    {
     "name": "stdout",
     "output_type": "stream",
     "text": [
      "Support Vector Machine: \n",
      "\n"
     ]
    },
    {
     "data": {
      "image/png": "[encoded data removed]",
      "text/plain": [
       "<Figure size 432x288 with 2 Axes>"
      ]
     },
     "metadata": {},
     "output_type": "display_data"
    },
    {
     "name": "stdout",
     "output_type": "stream",
     "text": [
      "             precision    recall  f1-score   support\n",
      "\n",
      "    Hip-Hop       0.87      0.88      0.87       230\n",
      "       Rock       0.87      0.87      0.87       225\n",
      "\n",
      "avg / total       0.87      0.87      0.87       455\n",
      "\n"
     ]
    }
   ],
   "source": [
    "from sklearn.svm import SVC\n",
    "\n",
    "# Training our support vector machine on the balanced data\n",
    "svm = SVC(random_state=10)\n",
    "svm.fit(train_features,train_labels)\n",
    "pred_labels_svm = svm.predict(test_features)\n",
    "\n",
    "print(\"Support Vector Machine: \\n\")\n",
    "#print(confusion_matrix(test_labels, pred_labels_tree))\n",
    "sns.heatmap(confusion_matrix(test_labels, pred_labels_logit),xticklabels=genres,yticklabels=genres)\n",
    "plt.xlabel('Predicted')\n",
    "plt.ylabel('Actual')\n",
    "plt.show()\n",
    "\n",
    "\n",
    "# Creating classification report\n",
    "print(classification_report(test_labels,pred_labels_svm))\n"
   ]
  },
  {
   "cell_type": "code",
   "execution_count": 36,
   "metadata": {},
   "outputs": [
    {
     "name": "stdout",
     "output_type": "stream",
     "text": [
      "K-Neighbors Classifier\n"
     ]
    },
    {
     "data": {
      "image/png": "[encoded data removed]",
      "text/plain": [
       "<Figure size 432x288 with 2 Axes>"
      ]
     },
     "metadata": {},
     "output_type": "display_data"
    },
    {
     "name": "stdout",
     "output_type": "stream",
     "text": [
      "             precision    recall  f1-score   support\n",
      "\n",
      "    Hip-Hop       0.85      0.87      0.86       230\n",
      "       Rock       0.86      0.84      0.85       225\n",
      "\n",
      "avg / total       0.86      0.86      0.86       455\n",
      "\n"
     ]
    }
   ],
   "source": [
    "from sklearn.neighbors import KNeighborsClassifier\n",
    "\n",
    "# Training our K-neighbors classifier on the balanced data\n",
    "knn = KNeighborsClassifier()\n",
    "knn.fit(train_features,train_labels)\n",
    "pred_labels_knn = knn.predict(test_features)\n",
    "\n",
    "print(\"K-Neighbors Classifier\")\n",
    "#print(confusion_matrix(test_labels, pred_labels_tree))\n",
    "sns.heatmap(confusion_matrix(test_labels, pred_labels_knn),xticklabels=genres,yticklabels=genres)\n",
    "plt.xlabel('Predicted')\n",
    "plt.ylabel('Actual')\n",
    "plt.show()\n",
    "\n",
    "\n",
    "# Creating classification report\n",
    "print(classification_report(test_labels,pred_labels_knn))"
   ]
  },
  {
   "cell_type": "code",
   "execution_count": 37,
   "metadata": {},
   "outputs": [
    {
     "name": "stdout",
     "output_type": "stream",
     "text": [
      "Naive Bayes: \n",
      "\n"
     ]
    },
    {
     "data": {
      "image/png": "[encoded data removed]",
      "text/plain": [
       "<Figure size 432x288 with 2 Axes>"
      ]
     },
     "metadata": {},
     "output_type": "display_data"
    },
    {
     "name": "stdout",
     "output_type": "stream",
     "text": [
      "             precision    recall  f1-score   support\n",
      "\n",
      "    Hip-Hop       0.83      0.83      0.83       230\n",
      "       Rock       0.83      0.83      0.83       225\n",
      "\n",
      "avg / total       0.83      0.83      0.83       455\n",
      "\n"
     ]
    }
   ],
   "source": [
    "from sklearn.naive_bayes import GaussianNB\n",
    "\n",
    "# Training our Naive_Bayes on the balanced data\n",
    "nabay = GaussianNB()\n",
    "nabay.fit(train_features,train_labels)\n",
    "pred_labels_nb = nabay.predict(test_features)\n",
    "\n",
    "print(\"Naive Bayes: \\n\")\n",
    "#print(confusion_matrix(test_labels, pred_labels_tree))\n",
    "sns.heatmap(confusion_matrix(test_labels, pred_labels_nb),xticklabels=genres,yticklabels=genres)\n",
    "plt.xlabel('Predicted')\n",
    "plt.ylabel('Actual')\n",
    "plt.show()\n",
    "\n",
    "\n",
    "# Creating classification report\n",
    "print(classification_report(test_labels,pred_labels_nb))"
   ]
  },
  {
   "cell_type": "code",
   "execution_count": 38,
   "metadata": {},
   "outputs": [],
   "source": [
    "from sklearn.model_selection import KFold, cross_val_score\n",
    "\n",
    "# Setting our K-fold cross-validation\n",
    "kf = KFold(n_splits=10,random_state=10)"
   ]
  },
  {
   "cell_type": "code",
   "execution_count": 39,
   "metadata": {},
   "outputs": [],
   "source": [
    "#Training the model using KFold cv\n",
    "tree = DecisionTreeClassifier(random_state=10)\n",
    "tree_score = cross_val_score(tree,pca_projection,labels,cv=kf)"
   ]
  },
  {
   "cell_type": "code",
   "execution_count": 40,
   "metadata": {},
   "outputs": [],
   "source": [
    "logreg = LogisticRegression(random_state=10)\n",
    "logit_score = cross_val_score(logreg,pca_projection,labels,cv=kf)"
   ]
  },
  {
   "cell_type": "code",
   "execution_count": 41,
   "metadata": {},
   "outputs": [],
   "source": [
    "rfc = RandomForestClassifier(random_state=10)\n",
    "rfc_score = cross_val_score(rfc,pca_projection,labels,cv=kf)"
   ]
  },
  {
   "cell_type": "code",
   "execution_count": 42,
   "metadata": {},
   "outputs": [],
   "source": [
    "svm = SVC(random_state=10)\n",
    "svm_score = cross_val_score(svm,pca_projection,labels,cv=kf)"
   ]
  },
  {
   "cell_type": "code",
   "execution_count": 43,
   "metadata": {},
   "outputs": [],
   "source": [
    "knn = KNeighborsClassifier()\n",
    "knn_score = cross_val_score(knn,pca_projection,labels,cv=kf)"
   ]
  },
  {
   "cell_type": "code",
   "execution_count": 44,
   "metadata": {},
   "outputs": [],
   "source": [
    "nabay = GaussianNB()\n",
    "nabay_score = cross_val_score(nabay,pca_projection,labels,cv=kf)"
   ]
  },
  {
   "cell_type": "code",
   "execution_count": 45,
   "metadata": {},
   "outputs": [
    {
     "name": "stdout",
     "output_type": "stream",
     "text": [
      "Decision Tree:          0.7241758241758242 \n",
      "\n",
      "Logistic Regression:    0.7752747252747252 \n",
      "\n",
      "Random Forest:          0.7862637362637361 \n",
      "\n",
      "Support Vector Machine: 0.8137362637362637 \n",
      "\n",
      "K-Neighbors:            0.817032967032967 \n",
      "\n",
      "Naive Bayes:            0.7846153846153846 \n",
      "\n"
     ]
    }
   ],
   "source": [
    "# Printing the mean of each array of scores\n",
    "print(\"Decision Tree:         \", np.mean(tree_score),\"\\n\")\n",
    "print(\"Logistic Regression:   \", np.mean(logit_score),\"\\n\")\n",
    "print(\"Random Forest:         \", np.mean(rfc_score),\"\\n\")\n",
    "print(\"Support Vector Machine:\", np.mean(svm_score),\"\\n\")\n",
    "print(\"K-Neighbors:           \", np.mean(knn_score),\"\\n\")\n",
    "print(\"Naive Bayes:           \", np.mean(nabay_score),\"\\n\")\n"
   ]
  },
  {
   "cell_type": "code",
   "execution_count": null,
   "metadata": {},
   "outputs": [],
   "source": [
    "#Hence, we find that \n",
    "#K-Neighbors Classifier and Support Vector Machine\n",
    "#are the strongest predictors here.\n"
   ]
  }
 ],
 "metadata": {
  "kernelspec": {
   "display_name": "Python 3",
   "language": "python",
   "name": "python3"
  },
  "language_info": {
   "codemirror_mode": {
    "name": "ipython",
    "version": 3
   },
   "file_extension": ".py",
   "mimetype": "text/x-python",
   "name": "python",
   "nbconvert_exporter": "python",
   "pygments_lexer": "ipython3",
   "version": "3.6.7"
  }
 },
 "nbformat": 4,
 "nbformat_minor": 2
}
